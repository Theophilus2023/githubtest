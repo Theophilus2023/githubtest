{
  "nbformat": 4,
  "nbformat_minor": 0,
  "metadata": {
    "colab": {
      "provenance": [],
      "authorship_tag": "ABX9TyMF1/x2Itly6bo9jWYySRHq",
      "include_colab_link": true
    },
    "kernelspec": {
      "name": "python3",
      "display_name": "Python 3"
    },
    "language_info": {
      "name": "python"
    }
  },
  "cells": [
    {
      "cell_type": "markdown",
      "metadata": {
        "id": "view-in-github",
        "colab_type": "text"
      },
      "source": [
        "<a href=\"https://colab.research.google.com/github/Theophilus2023/githubtest/blob/main/DerivativeModeling.ipynb\" target=\"_parent\"><img src=\"https://colab.research.google.com/assets/colab-badge.svg\" alt=\"Open In Colab\"/></a>"
      ]
    },
    {
      "cell_type": "code",
      "execution_count": 1,
      "metadata": {
        "colab": {
          "base_uri": "https://localhost:8080/"
        },
        "id": "kC3njm61l3au",
        "outputId": "0c5530d9-0ef2-43c3-deb8-2a6a64b246a3"
      },
      "outputs": [
        {
          "output_type": "stream",
          "name": "stdout",
          "text": [
            "The Black-Scholes option price is: 4.58\n"
          ]
        }
      ],
      "source": [
        "import numpy as np\n",
        "from scipy.stats import norm\n",
        "\n",
        "def black_scholes_call(S, K, r, T, sigma):\n",
        "    \"\"\"\n",
        "    Calculate the Black-Scholes option price for a European call option.\n",
        "\n",
        "    S: float, current stock price\n",
        "    K: float, option's strike price\n",
        "    r: float, risk-free interest rate (annualized, as a decimal)\n",
        "    T: float, time to expiration (in years)\n",
        "    sigma: float, annualized standard deviation of stock returns (volatility, as a decimal)\n",
        "\n",
        "    Returns the option price.\n",
        "    \"\"\"\n",
        "    d1 = (np.log(S / K) + (r + 0.5 * sigma**2) * T) / (sigma * np.sqrt(T))\n",
        "    d2 = d1 - sigma * np.sqrt(T)\n",
        "\n",
        "    call_price = S * norm.cdf(d1) - K * np.exp(-r * T) * norm.cdf(d2)\n",
        "    return call_price\n",
        "\n",
        "# Example usage\n",
        "if __name__ == \"__main__\":\n",
        "    stock_price = 100  # Current stock price\n",
        "    strike_price = 105  # Option's strike price\n",
        "    risk_free_rate = 0.05  # Risk-free interest rate (5%)\n",
        "    time_to_expiration = 0.5  # Time to expiration in years (6 months)\n",
        "    volatility = 0.2  # Annualized standard deviation of stock returns (20%)\n",
        "\n",
        "    option_price = black_scholes_call(stock_price, strike_price, risk_free_rate, time_to_expiration, volatility)\n",
        "    print(f\"The Black-Scholes option price is: {option_price:.2f}\")\n"
      ]
    }
  ]
}