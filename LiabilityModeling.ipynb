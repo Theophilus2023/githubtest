{
  "nbformat": 4,
  "nbformat_minor": 0,
  "metadata": {
    "colab": {
      "provenance": [],
      "authorship_tag": "ABX9TyP1//1MzCLK+agg4vghL9dX",
      "include_colab_link": true
    },
    "kernelspec": {
      "name": "python3",
      "display_name": "Python 3"
    },
    "language_info": {
      "name": "python"
    }
  },
  "cells": [
    {
      "cell_type": "markdown",
      "metadata": {
        "id": "view-in-github",
        "colab_type": "text"
      },
      "source": [
        "<a href=\"https://colab.research.google.com/github/Theophilus2023/githubtest/blob/main/LiabilityModeling.ipynb\" target=\"_parent\"><img src=\"https://colab.research.google.com/assets/colab-badge.svg\" alt=\"Open In Colab\"/></a>"
      ]
    },
    {
      "cell_type": "code",
      "execution_count": 1,
      "metadata": {
        "colab": {
          "base_uri": "https://localhost:8080/"
        },
        "id": "rDIzouHimf8D",
        "outputId": "dba8f648-b004-42ad-e098-eed7aa9aaaf4"
      },
      "outputs": [
        {
          "output_type": "stream",
          "name": "stdout",
          "text": [
            "Matched Bond: Face Value: 1000, Coupon Rate: 0.05, Years to Maturity: 5\n",
            "Matched Bond: Face Value: 1500, Coupon Rate: 0.04, Years to Maturity: 4\n"
          ]
        }
      ],
      "source": [
        "class Liability:\n",
        "    def __init__(self, amount, cash_flows):\n",
        "        self.amount = amount\n",
        "        self.cash_flows = cash_flows\n",
        "\n",
        "\n",
        "class Bond:\n",
        "    def __init__(self, face_value, coupon_rate, years_to_maturity):\n",
        "        self.face_value = face_value\n",
        "        self.coupon_rate = coupon_rate\n",
        "        self.years_to_maturity = years_to_maturity\n",
        "        self.cash_flows = self._generate_cash_flows()\n",
        "\n",
        "    def _generate_cash_flows(self):\n",
        "        cash_flows = [self.face_value * self.coupon_rate] * self.years_to_maturity\n",
        "        cash_flows[-1] += self.face_value\n",
        "        return cash_flows\n",
        "\n",
        "\n",
        "def match_liability(liability, bonds):\n",
        "    total_amount_matched = 0\n",
        "    matched_bonds = []\n",
        "    remaining_cash_flows = list(liability.cash_flows)\n",
        "\n",
        "    for bond in bonds:\n",
        "        for i in range(len(bond.cash_flows)):\n",
        "            if remaining_cash_flows[i] <= 0:\n",
        "                break\n",
        "\n",
        "            amount_to_match = min(remaining_cash_flows[i], bond.cash_flows[i])\n",
        "            remaining_cash_flows[i] -= amount_to_match\n",
        "            total_amount_matched += amount_to_match\n",
        "\n",
        "        matched_bonds.append(bond)\n",
        "\n",
        "        if total_amount_matched >= liability.amount:\n",
        "            break\n",
        "\n",
        "    return matched_bonds\n",
        "\n",
        "\n",
        "# Example usage\n",
        "if __name__ == \"__main__\":\n",
        "    # Create a liability with predefined cash flows\n",
        "    liability_cash_flows = [100, 150, 200, 250, 300]  # Example cash flows over 5 years\n",
        "    liability_amount = 800\n",
        "\n",
        "    liability = Liability(liability_amount, liability_cash_flows)\n",
        "\n",
        "    # Create a set of bonds with predefined cash flows\n",
        "    bond1 = Bond(face_value=1000, coupon_rate=0.05, years_to_maturity=5)\n",
        "    bond2 = Bond(face_value=1500, coupon_rate=0.04, years_to_maturity=4)\n",
        "    bond3 = Bond(face_value=2000, coupon_rate=0.06, years_to_maturity=6)\n",
        "\n",
        "    bonds = [bond1, bond2, bond3]\n",
        "\n",
        "    # Match the liability cash flows with the bonds\n",
        "    matched_bonds = match_liability(liability, bonds)\n",
        "\n",
        "    # Display the matched bonds\n",
        "    for bond in matched_bonds:\n",
        "        print(f\"Matched Bond: Face Value: {bond.face_value}, Coupon Rate: {bond.coupon_rate}, Years to Maturity: {bond.years_to_maturity}\")\n"
      ]
    }
  ]
}