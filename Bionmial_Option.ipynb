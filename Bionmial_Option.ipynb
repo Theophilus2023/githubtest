{
  "nbformat": 4,
  "nbformat_minor": 0,
  "metadata": {
    "colab": {
      "provenance": [],
      "authorship_tag": "ABX9TyOio0ktApz1zIcQCM91p+QQ",
      "include_colab_link": true
    },
    "kernelspec": {
      "name": "python3",
      "display_name": "Python 3"
    },
    "language_info": {
      "name": "python"
    }
  },
  "cells": [
    {
      "cell_type": "markdown",
      "metadata": {
        "id": "view-in-github",
        "colab_type": "text"
      },
      "source": [
        "<a href=\"https://colab.research.google.com/github/Theophilus2023/githubtest/blob/main/Bionmial_Option.ipynb\" target=\"_parent\"><img src=\"https://colab.research.google.com/assets/colab-badge.svg\" alt=\"Open In Colab\"/></a>"
      ]
    },
    {
      "cell_type": "code",
      "execution_count": 2,
      "metadata": {
        "colab": {
          "base_uri": "https://localhost:8080/"
        },
        "id": "tL59_w_Bpax-",
        "outputId": "b5ef33f9-1b55-4ab8-94e3-9d34dd026059"
      },
      "outputs": [
        {
          "output_type": "stream",
          "name": "stdout",
          "text": [
            "The binomial option price is: 4.59\n"
          ]
        }
      ],
      "source": [
        "import numpy as np\n",
        "import matplotlib.pyplot as plt\n",
        "\n",
        "\n",
        "def binomial_option_pricing(S, K, r, T, sigma, n_steps):\n",
        "    dt = T/n_steps\n",
        "    u = np.exp(sigma * np.sqrt(dt))\n",
        "    d = 1/u\n",
        "    p = (np.exp(r * dt) - d) / (u - d)\n",
        "\n",
        "    # Generate the stock price tree\n",
        "    stock_tree = np.zeros((n_steps + 1, n_steps + 1))\n",
        "    for i in range(n_steps + 1):\n",
        "        for j in range(i + 1):\n",
        "            stock_tree[j, i] = S * (u ** (i - j)) * (d ** j)\n",
        "\n",
        "    # Generate the option price tree\n",
        "    option_tree = np.zeros((n_steps + 1, n_steps + 1))\n",
        "    option_tree[:, -1] = np.maximum(0, stock_tree[:, -1] - K)\n",
        "\n",
        "    # Calculate option prices at earlier time steps\n",
        "    for i in range(n_steps - 1, -1, -1):\n",
        "        for j in range(i + 1):\n",
        "            option_tree[j, i] = np.exp(-r * dt) * (p * option_tree[j, i + 1] + (1 - p) * option_tree[j + 1, i + 1])\n",
        "\n",
        "    return option_tree[0, 0]\n",
        "\n",
        "# Example usage\n",
        "if __name__ == \"__main__\":\n",
        "    S = 100  # Current stock price\n",
        "    K = 105  # Option's strike price\n",
        "    r = 0.05  # Risk-free interest rate (annualized, as a decimal)\n",
        "    T = 0.5  # Time to expiration (in years)\n",
        "    sigma = 0.2  # Annualized standard deviation of stock returns (volatility, as a decimal)\n",
        "    n_steps = 100  # Number of time steps in the binomial tree\n",
        "\n",
        "    option_price = binomial_option_pricing(S, K, r, T, sigma, n_steps)\n",
        "    print(f\"The binomial option price is: {option_price:.2f}\")\n"
      ]
    }
  ]
}